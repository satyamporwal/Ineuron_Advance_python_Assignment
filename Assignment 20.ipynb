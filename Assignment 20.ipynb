{
 "cells": [
  {
   "cell_type": "markdown",
   "id": "141fe251",
   "metadata": {},
   "source": [
    "# 1. Compare and contrast the float and Decimal classes' benefits and drawbacks ?"
   ]
  },
  {
   "cell_type": "markdown",
   "id": "8a04562e",
   "metadata": {},
   "source": [
    "Both the float and decimal types store numerical values in Python.\n",
    "\n",
    "We use floats when convenience and speed matter. A float gives us an approximation of the number we declare.\n",
    "\n",
    "We use decimals when precision matters. Decimals can suffer from their own precision issues, but generally, decimals are more precise than floats. The performance difference between float and decimal, with Python 3, is not outlandish, and in my experience, the precision benefits of a decimal outweigh the performance benefits of a float."
   ]
  },
  {
   "cell_type": "markdown",
   "id": "09908ff6",
   "metadata": {},
   "source": [
    "# 2. Decimal('1.200') and Decimal('1.2') are two objects to consider. In what sense are these the same object? Are these just two ways of representing the exact same value, or do they correspond to different internal states ?"
   ]
  },
  {
   "cell_type": "markdown",
   "id": "4b63d45c",
   "metadata": {},
   "source": [
    "Both values are same but internal representation at storage Is different. Precsion differs, Decimal('1.200') gives internally 1.200 and Decimal('1.2') gives 1.2."
   ]
  },
  {
   "cell_type": "markdown",
   "id": "91d69fc4",
   "metadata": {},
   "source": [
    "# 3. What happens if the equality of Decimal('1.200') and Decimal('1.2') is checked ?"
   ]
  },
  {
   "cell_type": "markdown",
   "id": "cd23345a",
   "metadata": {},
   "source": [
    "Both values are checked to be equal since they only differ in precision."
   ]
  },
  {
   "cell_type": "markdown",
   "id": "856345a0",
   "metadata": {},
   "source": [
    "# 4. Why is it preferable to start a Decimal object with a string rather than a floating-point value ?"
   ]
  },
  {
   "cell_type": "markdown",
   "id": "7e1c5e48",
   "metadata": {},
   "source": [
    "Floating-point value is converted to Decimal format. Decimal can store float value with absolute precision. But when float value is given as Decimal object,it first has to be converted from floating point value which might already have rounding error.\n",
    "\n",
    "Hence it is preferable to start a Decimal object with a string."
   ]
  },
  {
   "cell_type": "markdown",
   "id": "ac37f945",
   "metadata": {},
   "source": [
    "# 5. In an arithmetic phrase, how simple is it to combine Decimal objects with integers ?"
   ]
  },
  {
   "cell_type": "markdown",
   "id": "fa56ed2a",
   "metadata": {},
   "source": [
    "We can do it with use of Decimal()."
   ]
  },
  {
   "cell_type": "markdown",
   "id": "1c408407",
   "metadata": {},
   "source": [
    "# 6. Can Decimal objects and floating-point values be combined easily ?"
   ]
  },
  {
   "cell_type": "markdown",
   "id": "27a360e2",
   "metadata": {},
   "source": [
    "Arithmetic operfations like Adding,subtracting or multiplying a Decimal object by a floating-point value generates an error.\n",
    "\n",
    "To do these operations, the floating point has to be converted to a Decimal."
   ]
  },
  {
   "cell_type": "markdown",
   "id": "65cddf55",
   "metadata": {},
   "source": [
    "# 7. Using the Fraction class but not the Decimal class, give an example of a quantity that can be expressed with absolute precision ?"
   ]
  },
  {
   "cell_type": "markdown",
   "id": "869759df",
   "metadata": {},
   "source": [
    "Value of 0.5 will be represented as ½."
   ]
  },
  {
   "cell_type": "markdown",
   "id": "e67cc27d",
   "metadata": {},
   "source": [
    "# 8.Consider the following two fraction objects: Fraction(1, 2) and Fraction(1, 2). (5, 10). Is the internal state of these two objects the same? Why do you think that is ?"
   ]
  },
  {
   "cell_type": "markdown",
   "id": "c3c79836",
   "metadata": {},
   "source": [
    "Both will be reduced to 1/2"
   ]
  },
  {
   "cell_type": "markdown",
   "id": "82685556",
   "metadata": {},
   "source": [
    "# 9. How do the Fraction class and the integer type (int) relate to each other? Containment or inheritance ?"
   ]
  },
  {
   "cell_type": "markdown",
   "id": "a3a6b5d7",
   "metadata": {},
   "source": [
    "Fraction class and integer type(int) are related in form of a container. It contains two ints, one in the numerator and the other in the denominator"
   ]
  },
  {
   "cell_type": "code",
   "execution_count": null,
   "id": "b6653340",
   "metadata": {},
   "outputs": [],
   "source": []
  }
 ],
 "metadata": {
  "kernelspec": {
   "display_name": "Python 3 (ipykernel)",
   "language": "python",
   "name": "python3"
  },
  "language_info": {
   "codemirror_mode": {
    "name": "ipython",
    "version": 3
   },
   "file_extension": ".py",
   "mimetype": "text/x-python",
   "name": "python",
   "nbconvert_exporter": "python",
   "pygments_lexer": "ipython3",
   "version": "3.9.12"
  }
 },
 "nbformat": 4,
 "nbformat_minor": 5
}
